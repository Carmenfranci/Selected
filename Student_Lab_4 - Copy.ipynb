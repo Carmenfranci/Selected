{
  "cells": [
    {
      "cell_type": "markdown",
      "metadata": {
        "id": "QRSb4e0MBD0d"
      },
      "source": [
        "**Lab 4** for the course of *Selected Topics in Music and Acoustic Engineering* :\n",
        "\n",
        "***Machine Learning for Audio and Acoustic Engineering***\n",
        "---\n",
        "\n",
        "# **Before you start**\n",
        "\n",
        "*   Go to \"*File*\" --> \"*Save a copy in Drive*\"\n",
        "*   Open that copy (might open automatically)\n",
        "*   Then continue below\n",
        "\n",
        "# **Lab 4: Neural Networks (II)**\n",
        "---"
      ]
    },
    {
      "cell_type": "markdown",
      "metadata": {
        "id": "S8kmdIHGSOO_"
      },
      "source": [
        "In this lab we will continue exploring different types of deep architectures for audio processing, and we will pay special attention to system evaluation.\n"
      ]
    },
    {
      "cell_type": "code",
      "execution_count": null,
      "metadata": {
        "id": "G6U5xvhLUsTJ"
      },
      "outputs": [],
      "source": [
        "# As always, we import the relevant packages\n",
        "import numpy as np\n",
        "import matplotlib.pyplot as plt\n",
        "from pathlib import Path\n",
        "import librosa\n",
        "import sklearn\n",
        "import tensorflow as tf\n",
        "from tensorflow.keras.callbacks import CSVLogger, EarlyStopping, ModelCheckpoint\n",
        "import pandas as pd\n",
        "from sklearn.metrics import classification_report\n",
        "from sklearn.metrics import confusion_matrix, ConfusionMatrixDisplay\n",
        "from sklearn.model_selection import train_test_split\n",
        "from sklearn.preprocessing import StandardScaler\n",
        "plt.style.use(\"seaborn-v0_8\")"
      ]
    },
    {
      "cell_type": "markdown",
      "metadata": {
        "id": "ZhMvCfOxT1vq"
      },
      "source": [
        "### **Exercise 1**: Data Preparation I\n",
        "\n",
        "We will continue working with the ESC-50 dataset. Download it to your notebook following the same steps as in Lab 2 and Lab 3."
      ]
    },
    {
      "cell_type": "code",
      "execution_count": null,
      "metadata": {
        "id": "3yf9PY8gUD08"
      },
      "outputs": [],
      "source": [
        "# !wget https://github.com/karolpiczak/ESC-50/archive/master.zip\n",
        "# !unzip master.zip"
      ]
    },
    {
      "cell_type": "markdown",
      "metadata": {
        "id": "a6bPjK6OVeNs"
      },
      "source": [
        "Create a list containing the audio files and another one with the corresponding labels (as in Lab 3):"
      ]
    },
    {
      "cell_type": "code",
      "execution_count": null,
      "metadata": {
        "id": "DyYxVH6VUO4W"
      },
      "outputs": [],
      "source": [
        "# YOUR CODE HERE!\n"
      ]
    },
    {
      "cell_type": "markdown",
      "metadata": {
        "id": "ATIutRkfUo-k"
      },
      "source": [
        "Instead of working with 50 classes, we limit our dataset to only 10 classes. Filter you two files (the one with file paths and the one with labels) to contain only those belonging to classes [0-9]."
      ]
    },
    {
      "cell_type": "code",
      "execution_count": null,
      "metadata": {
        "id": "oMwVmhVqUdCa"
      },
      "outputs": [],
      "source": [
        "# YOUR CODE HERE!\n",
        "files = ...\n",
        "labels = ..."
      ]
    },
    {
      "cell_type": "markdown",
      "metadata": {
        "id": "gvbyUM8nU_fv"
      },
      "source": [
        "We load the signals and get the Mel spectrogram for each signal. Create a list called \"signals\" storing the raw waveforms of each file in your list and another one called \"melspecs\" that stores the Mel spectrogram for each signal.\n",
        "\n",
        "Note: use the default parameters for librosa.load (resample to 22050Hz) and librosa.feature.melspectrogram."
      ]
    },
    {
      "cell_type": "code",
      "execution_count": null,
      "metadata": {
        "id": "743iyIr3U7wy"
      },
      "outputs": [],
      "source": [
        "# YOUR CODE HERE!"
      ]
    },
    {
      "cell_type": "markdown",
      "metadata": {
        "id": "ASOMPEK5XI8-"
      },
      "source": [
        "### **Exercise 2**: Data preparation II\n",
        "\n"
      ]
    },
    {
      "cell_type": "markdown",
      "metadata": {
        "id": "j11Q0Q9lXpqu"
      },
      "source": [
        "Convert your \"melspecs\" and \"labels\" list to numpy arrays, called \"Xdata\" and \"Ydata\". \n",
        "Check that the result has size (400, 128, 216) for Xdata and (400,) for Ydata."
      ]
    },
    {
      "cell_type": "code",
      "execution_count": null,
      "metadata": {
        "colab": {
          "base_uri": "https://localhost:8080/"
        },
        "id": "Q6AFgQCCXzdk",
        "outputId": "f36d9629-7a05-4d1c-a012-5597ce164063"
      },
      "outputs": [
        {
          "name": "stdout",
          "output_type": "stream",
          "text": [
            "Xdata shape: (400, 128, 216) \n",
            "Yata shape: (400,)\n"
          ]
        }
      ],
      "source": [
        "# YOUR CODE HERE!\n",
        "...\n",
        "\n",
        "print('Xdata shape: {} \\nYata shape: {}'.format(Xdata.shape, Ydata.shape))"
      ]
    },
    {
      "cell_type": "markdown",
      "metadata": {},
      "source": [
        "Check that Ydata is balanced by plotting the histogram."
      ]
    },
    {
      "cell_type": "code",
      "execution_count": null,
      "metadata": {},
      "outputs": [],
      "source": [
        "# YOUR CODE HERE!"
      ]
    },
    {
      "cell_type": "markdown",
      "metadata": {
        "id": "HgJiKJgoYGtJ"
      },
      "source": [
        "Split your dataset into 3 partitions, 1 for training (70%), 1 for validation (20%) and 1 for test (10%). Check that the resulting arrays have the correct shape:"
      ]
    },
    {
      "cell_type": "code",
      "execution_count": null,
      "metadata": {
        "id": "qAVIvFHakAf1"
      },
      "outputs": [
        {
          "name": "stdout",
          "output_type": "stream",
          "text": [
            "X_train shape: (280, 128, 216) \n",
            "X_val shape: (80, 128, 216) \n",
            "X_test shape: (40, 128, 216) \n",
            "y_train shape: (280,) \n",
            "y_val shape: (80,) \n",
            "y_test shape: (40,) \n",
            "\n"
          ]
        }
      ],
      "source": [
        "# YOUR CODE HERE!\n",
        "...\n",
        "\n",
        "# Shapes for each partition\n",
        "print('X_train shape: {} \\nX_val shape: {} \\nX_test shape: {} \\ny_train shape: {} \\ny_val shape: {} \\ny_test shape: {} \\n'.format(X_train.shape, X_val.shape, X_test.shape, y_train.shape, y_val.shape, y_test.shape))\n"
      ]
    },
    {
      "cell_type": "markdown",
      "metadata": {},
      "source": [
        "Expected output:\n",
        "```\n",
        "X_train shape: (280, 128, 216) \n",
        "X_val shape: (80, 128, 216) \n",
        "X_test shape: (40, 128, 216) \n",
        "y_train shape: (280,) \n",
        "y_val shape: (80,) \n",
        "y_test shape: (40,) \n",
        "```"
      ]
    },
    {
      "cell_type": "markdown",
      "metadata": {
        "id": "t9SCglqbdMUW"
      },
      "source": [
        "In the next exercise we will create a time-distributed 1D-CNN to process our dataset. By default, Keras assumes that the last dimension corresponds to the number of channels in our input. Since we are going to use 1D-CNN, each frequency band will be processed as an independent frequency channel. Therefore, we need to reorder the dimensions in our data to move the frequency channels to the last dimension.\n",
        "\n",
        "Use the numpy function \"moveaxis\" to create the data matrices X_train_rs, X_val_rs and X_test_rs, with dimensions (280, 216, 128), (80, 216, 128) and (40, 216, 128):"
      ]
    },
    {
      "cell_type": "code",
      "execution_count": null,
      "metadata": {
        "colab": {
          "base_uri": "https://localhost:8080/"
        },
        "id": "WHQEcqqpd5Ri",
        "outputId": "fd8e6817-4a28-49c5-9674-42335bdf3b11"
      },
      "outputs": [
        {
          "name": "stdout",
          "output_type": "stream",
          "text": [
            "X_train_rs shape: (280, 216, 128) \n",
            "X_val_rs shape: (80, 216, 128) \n",
            "X_test_rs shape: (40, 216, 128)\n"
          ]
        }
      ],
      "source": [
        "# YOUR CODE HERE!\n",
        "X_train_rs = ...\n",
        "X_val_rs = ...\n",
        "X_test_rs = ...\n",
        "\n",
        "print('X_train_rs shape: {} \\nX_val_rs shape: {} \\nX_test_rs shape: {}'.format(X_train_rs.shape, X_val_rs.shape, X_test_rs.shape))"
      ]
    },
    {
      "cell_type": "markdown",
      "metadata": {},
      "source": [
        "Expected output:\n",
        "```\n",
        "X_train_rs shape: (280, 216, 128) \n",
        "X_val_rs shape: (80, 216, 128) \n",
        "X_test_rs shape: (40, 216, 128)\n",
        "```"
      ]
    },
    {
      "cell_type": "markdown",
      "metadata": {
        "id": "Uy1z1u3CWcW-"
      },
      "source": [
        "### **Exercise 3**: 1D-Convolutional Neural Network\n",
        "\n"
      ]
    },
    {
      "cell_type": "markdown",
      "metadata": {
        "id": "qDzOd8ooWt5v"
      },
      "source": [
        "Create the following 1D-CNN architecture with Keras:\n",
        "\n",
        "1. **Input**  Shape: `(timesteps, features)`\n",
        "\n",
        "2. **Conv1D**  `16 filters, kernel=9, ReLU`\n",
        "\n",
        "3. **MaxPool1D**  `Pool=2, padding=same`\n",
        "\n",
        "4. **BatchNorm**\n",
        "\n",
        "5. **Conv1D**  `16 filters, kernel=3, ReLU`\n",
        "\n",
        "6. **MaxPool1D**  `Pool=2, padding=same`\n",
        "\n",
        "7. **BatchNorm**\n",
        "\n",
        "8. **Conv1D**  `32 filters, kernel=3, ReLU`\n",
        "\n",
        "9. **MaxPool1D**  `Pool=2, padding=same`\n",
        "\n",
        "10. **BatchNorm**\n",
        "\n",
        "11. **Flatten**\n",
        "\n",
        "12. **Dense**  `32 units, ReLU`\n",
        "\n",
        "13. **Dense**  `10 units, Softmax`\n"
      ]
    },
    {
      "cell_type": "code",
      "execution_count": null,
      "metadata": {
        "colab": {
          "base_uri": "https://localhost:8080/"
        },
        "id": "ggdXP3mq1Qm5",
        "outputId": "223e91e7-500c-449c-e81c-82705e9489ae"
      },
      "outputs": [],
      "source": [
        "# YOUR CODE HERE!"
      ]
    },
    {
      "cell_type": "markdown",
      "metadata": {
        "id": "AdEG0FHCeURW"
      },
      "source": [
        "Iniatialize Keras Callbacks:\n",
        "\n",
        "*   CSVLogger.\n",
        "*   Early_Stop with patience 100 epochs, working on validation loss.\n",
        "*   ModelCheckpoint working on validation accuracy (monitor = 'val_accuracy')."
      ]
    },
    {
      "cell_type": "code",
      "execution_count": null,
      "metadata": {
        "id": "NzzSgAlnWPy_"
      },
      "outputs": [],
      "source": [
        "# YOUR CODE HERE!\n",
        "\n",
        "#csv logger\n",
        "\n",
        "#early stopping\n",
        "\n",
        "#model checkpoint\n",
        "\n",
        "#store all these callbacks in a list, Callback list\n"
      ]
    },
    {
      "cell_type": "markdown",
      "metadata": {
        "id": "PiKfBoyQe9WQ"
      },
      "source": [
        "Train the network using Adam optimizer with `learning_rate=0.001` and a `batch_size=32`. Remember to include the created callbacks."
      ]
    },
    {
      "cell_type": "code",
      "execution_count": null,
      "metadata": {
        "id": "GMslglH7e_DT"
      },
      "outputs": [],
      "source": [
        "# YOUR CODE HERE!"
      ]
    },
    {
      "cell_type": "markdown",
      "metadata": {
        "id": "QIEpN05lhkUA"
      },
      "source": [
        "From the log file, using pandas, plot the training history including accuracy and loss. What is your best validation accuracy?"
      ]
    },
    {
      "cell_type": "code",
      "execution_count": null,
      "metadata": {},
      "outputs": [],
      "source": [
        "# YOUR CODE HERE!\n"
      ]
    },
    {
      "cell_type": "markdown",
      "metadata": {
        "id": "Gj5YctE_T7O9"
      },
      "source": [
        "ANSWER HERE!"
      ]
    },
    {
      "cell_type": "markdown",
      "metadata": {
        "id": "n6hOHqgelT_P"
      },
      "source": [
        "Evaluate the model over the test dataset. What is your test accuracy? Is it better or worse than the one in your validation set?"
      ]
    },
    {
      "cell_type": "code",
      "execution_count": 62,
      "metadata": {
        "id": "Yi7VnZVGSRbH"
      },
      "outputs": [],
      "source": [
        "# YOUR CODE HERE!"
      ]
    },
    {
      "cell_type": "markdown",
      "metadata": {},
      "source": [
        "ANSWER HERE!"
      ]
    },
    {
      "cell_type": "markdown",
      "metadata": {},
      "source": [
        "Now restore the best weights using `model.load_weights` and evaluate again. Discuss the obtained results."
      ]
    },
    {
      "cell_type": "code",
      "execution_count": null,
      "metadata": {
        "colab": {
          "base_uri": "https://localhost:8080/"
        },
        "id": "NVGHTm7h86lF",
        "outputId": "010e5268-0e3b-4b75-b743-5fc7e8623552"
      },
      "outputs": [],
      "source": [
        "# YOUR CODE HERE!"
      ]
    },
    {
      "cell_type": "markdown",
      "metadata": {
        "id": "-9Md4wdR_NPf"
      },
      "source": [
        "DISCUSSION HERE!"
      ]
    },
    {
      "cell_type": "markdown",
      "metadata": {
        "id": "l-xroD1-lpyE"
      },
      "source": [
        "### **Exercise 4**: 1D-CNN Evaluation\n",
        "\n",
        "Plot your confusion matrix for the validation set and for your test set. Discuss the obtained results."
      ]
    },
    {
      "cell_type": "code",
      "execution_count": null,
      "metadata": {
        "id": "WkKrgD3C7QmT"
      },
      "outputs": [],
      "source": [
        "# YOUR CODE HERE!"
      ]
    },
    {
      "cell_type": "markdown",
      "metadata": {
        "id": "B3MOA9OEY4L5"
      },
      "source": [
        "DISCUSSION HERE!"
      ]
    },
    {
      "cell_type": "markdown",
      "metadata": {
        "id": "Y-Pyx0yXnQu3"
      },
      "source": [
        "### **Exercise 5**: Time-Distributed 1D-CNN\n",
        "\n",
        "In the previous 1D-CNN, each band of the Mel-spectrogram was treated as an independent channel. We want to continue using a similar 1D-CNN architecture but this time using a time-distributed model. Now the input will have several time steps (frames in this case) and 1 single channel.\n",
        "\n",
        "Reshape your input X_train_rs to create a new input X_train_rss with dimensions (280, 216, 128, 1). You can use numpy's expand_dims."
      ]
    },
    {
      "cell_type": "code",
      "execution_count": null,
      "metadata": {
        "colab": {
          "base_uri": "https://localhost:8080/"
        },
        "id": "704FPWulnwm8",
        "outputId": "ee3ed760-fe91-43dd-bb9b-d2577558fb65"
      },
      "outputs": [
        {
          "name": "stdout",
          "output_type": "stream",
          "text": [
            "Original size X_train_rs.shape= (280, 216, 128) ; X_val_rs.shape= (80, 216, 128)\n",
            "New size X_val_rss.shape=X_train_rss.shape (80, 216, 128, 1) ; X_val_rss.shape= (40, 216, 128, 1)\n"
          ]
        }
      ],
      "source": [
        "# YOUR CODE HERE!\n",
        "X_train_rss = ...\n",
        "X_val_rss = ...\n",
        "X_test_rss = ...\n",
        "\n",
        "print(f'Original size X_train_rs.shape=', X_train_rs.shape, '; X_val_rs.shape=', X_val_rs.shape, '; X_test_rs.shape=', X_test_rs.shape)\n",
        "print(f'New size X_train_rss.shape=X_train_rss.shape', X_train_rss.shape, '; X_val_rss.shape=', X_val_rss.shape, '; X_test_rss.shape=', X_test_rss.shape) "
      ]
    },
    {
      "cell_type": "markdown",
      "metadata": {},
      "source": [
        "Expected output:\n",
        "```\n",
        "Original size X_train_rs.shape= (280, 216, 128) ; X_val_rs.shape= (80, 216, 128) ; X_test_rs.shape= (40, 216, 128)\n",
        "New size X_train_rss.shape=X_train_rss.shape (280, 216, 128, 1) ; X_val_rss.shape= (80, 216, 128, 1) ; X_test_rss.shape= (40, 216, 128, 1)\n",
        "```"
      ]
    },
    {
      "cell_type": "markdown",
      "metadata": {
        "id": "9xRaFpGiio0O"
      },
      "source": [
        "Create your time-distributed network. A good thing of time-distributed networks is that the time-step dimension does not have to be fixed (it can be None). Thus, you can specify your input shape as:\n",
        "\n",
        "input_shape = (None, 128, 1)\n",
        "\n"
      ]
    },
    {
      "cell_type": "code",
      "execution_count": null,
      "metadata": {
        "colab": {
          "base_uri": "https://localhost:8080/"
        },
        "id": "u8t-6-ZDnjtZ",
        "outputId": "395c1906-1f5f-4d56-f21d-3de536f5c900"
      },
      "outputs": [],
      "source": [
        "#Create a time distributed model\n",
        "...\n",
        "modeltd.summary()"
      ]
    },
    {
      "cell_type": "markdown",
      "metadata": {
        "id": "_iqkXpSfjXYp"
      },
      "source": [
        "Train the model using the same callbacks as before."
      ]
    },
    {
      "cell_type": "code",
      "execution_count": null,
      "metadata": {
        "id": "mEavxBxRogO3"
      },
      "outputs": [],
      "source": [
        "# YOUR CODE HERE!"
      ]
    },
    {
      "cell_type": "markdown",
      "metadata": {
        "id": "nD6554HHjfe8"
      },
      "source": [
        "Plot the training history and the best validation accuracy result. "
      ]
    },
    {
      "cell_type": "code",
      "execution_count": 64,
      "metadata": {
        "colab": {
          "base_uri": "https://localhost:8080/",
          "height": 529
        },
        "id": "cnojrXm6pX5l",
        "outputId": "6668e131-46e8-4416-945a-9f6e6763a6d4"
      },
      "outputs": [],
      "source": [
        "# YOUR CODE HERE!"
      ]
    },
    {
      "cell_type": "markdown",
      "metadata": {
        "id": "orRrFlZEz7Vs"
      },
      "source": [
        "Load the optimal weights (from early stopping) and plot the validation and test confusion matrices:"
      ]
    },
    {
      "cell_type": "code",
      "execution_count": null,
      "metadata": {
        "id": "z3a9pFnshSTn"
      },
      "outputs": [],
      "source": [
        "# YOUR CODE HERE!"
      ]
    },
    {
      "cell_type": "markdown",
      "metadata": {
        "id": "Puj8y_-6iR1S"
      },
      "source": [
        "Discuss the obtained results."
      ]
    },
    {
      "cell_type": "markdown",
      "metadata": {
        "id": "tmIJRdFzDQA7"
      },
      "source": [
        "### **Exercise 6**: Performance metrics\n",
        "\n",
        "Use sklearn \"classification_report\" to analyze the performance of the classifier for each class in terms of Precision, Recall and F1."
      ]
    },
    {
      "cell_type": "markdown",
      "metadata": {
        "id": "uzsyQgI6DqRZ"
      },
      "source": [
        "Show the classification report for validation set. Discuss the results."
      ]
    },
    {
      "cell_type": "code",
      "execution_count": null,
      "metadata": {
        "colab": {
          "base_uri": "https://localhost:8080/"
        },
        "id": "jYAYsX2Zmvys",
        "outputId": "05106a2e-6a3a-4266-99a5-0e4e563dc8d0"
      },
      "outputs": [],
      "source": [
        "# YOUR CODE HERE!"
      ]
    },
    {
      "cell_type": "markdown",
      "metadata": {
        "id": "PIE6spx9o2o9"
      },
      "source": [
        "DISCUSSION HERE!"
      ]
    },
    {
      "cell_type": "markdown",
      "metadata": {
        "id": "6Qh3zZsaEabq"
      },
      "source": [
        "Show the classification report for the test set. Discuss the results."
      ]
    },
    {
      "cell_type": "code",
      "execution_count": null,
      "metadata": {
        "colab": {
          "base_uri": "https://localhost:8080/"
        },
        "id": "Z0vTo2AHEebg",
        "outputId": "7f4b7062-0eff-4594-fe10-eb12e9583a92"
      },
      "outputs": [],
      "source": [
        "# YOUR CODE HERE!"
      ]
    },
    {
      "cell_type": "markdown",
      "metadata": {
        "id": "8uB9NWL5tMg8"
      },
      "source": [
        "DISCUSSION HERE!"
      ]
    },
    {
      "cell_type": "markdown",
      "metadata": {
        "id": "PVLpq0p9Elcc"
      },
      "source": [
        "### **Exercise 7**: Hybrid CNN-RNN\n",
        "\n",
        "In this last exercise we are going to mix our previous time-distributed model with a LSTM layer to create a Hybrid CNN-RNN architecture.\n",
        "\n",
        "Adapt your previous time-distributed model to match the following summary:"
      ]
    },
    {
      "cell_type": "code",
      "execution_count": null,
      "metadata": {
        "id": "fOKtuDkglYe2"
      },
      "outputs": [],
      "source": [
        "# _________________________________________________________________\n",
        "# Layer (type)                 Output Shape              Param #   \n",
        "\n",
        "# Time-Dist Conv1D             (None, None, 120, 16)     160       \n",
        "# _________________________________________________________________\n",
        "# Time-Dist MaxPool1D 1D       (None, None, 60, 16)      0         \n",
        "# _________________________________________________________________\n",
        "# Time-Dist Dropout (0.5)      (None, None, 60, 16)      0         \n",
        "# _________________________________________________________________\n",
        "# Time-Dist Conv1D             (None, None, 58, 16)      784       \n",
        "# _________________________________________________________________\n",
        "# Time-Dist MaxPool1D          (None, None, 29, 16)      0         \n",
        "# _________________________________________________________________\n",
        "# Time-Dist Dropout (0.5)      (None, None, 29, 16)      0         \n",
        "# _________________________________________________________________\n",
        "# Time-Dist Conv1D             (None, None, 27, 32)      1568      \n",
        "# _________________________________________________________________\n",
        "# Time-Dist Dropout (0.5)      (None, None, 27, 32)      0         \n",
        "# _________________________________________________________________\n",
        "# Time-Dist MaxPool1D          (None, None, 14, 32)      0         \n",
        "# _________________________________________________________________\n",
        "# Time-Dist Flatten            (None, None, 448)         0         \n",
        "# _________________________________________________________________\n",
        "# LSTM  (16 neurons)           (None, None, 16)          29760     \n",
        "# _________________________________________________________________\n",
        "# Global Av. Pooling 1D        (None, 16)                0         \n",
        "# _________________________________________________________________\n",
        "# Dropout (0.35)               (None, 16)                0         \n",
        "# _________________________________________________________________\n",
        "# Dense                        (None, 10)                170       \n",
        "\n",
        "# Total params: 32,442\n",
        "# Trainable params: 32,442\n",
        "# Non-trainable params: 0\n",
        "# _________________________________________________________________\n"
      ]
    },
    {
      "cell_type": "code",
      "execution_count": 65,
      "metadata": {
        "colab": {
          "base_uri": "https://localhost:8080/"
        },
        "id": "sGgMxslBu7qU",
        "outputId": "53020ebc-26a9-45ef-bc3c-d9d38bd1382e"
      },
      "outputs": [],
      "source": [
        "#Create a time distributed model HERE!"
      ]
    },
    {
      "cell_type": "markdown",
      "metadata": {
        "id": "haDJp-HflnI-"
      },
      "source": [
        "Train the network using the same procedure as in previous tasks."
      ]
    },
    {
      "cell_type": "code",
      "execution_count": null,
      "metadata": {
        "id": "atsv8EkP5Esd"
      },
      "outputs": [],
      "source": [
        "# YOUR CODE HERE!"
      ]
    },
    {
      "cell_type": "markdown",
      "metadata": {
        "id": "dMkqqjiplt8N"
      },
      "source": [
        "Plot the training history and evaluate the model using the optimal weights (from early stopping). \n",
        "\n",
        "NOTE: For the evaluation, compare the validation/test loss and accuracy, display the confusion matrices and show the classification reports.\n",
        "Discuss your results."
      ]
    },
    {
      "cell_type": "code",
      "execution_count": 66,
      "metadata": {
        "colab": {
          "base_uri": "https://localhost:8080/",
          "height": 529
        },
        "id": "_YSmF4hvQZBW",
        "outputId": "a06dcb3b-8b4f-44a7-f38e-5b6155aa5ac7"
      },
      "outputs": [],
      "source": [
        "# YOUR CODE HERE!"
      ]
    },
    {
      "cell_type": "markdown",
      "metadata": {
        "id": "k4NeYATK601X"
      },
      "source": [
        "DISCUSSION HERE!"
      ]
    },
    {
      "cell_type": "markdown",
      "metadata": {},
      "source": [
        "### **Exercise 8**: 2D CNN Experiment"
      ]
    },
    {
      "cell_type": "markdown",
      "metadata": {},
      "source": [
        "Now, lets repeat the experiments but using a 2D CNN approach with the following proposed structure:\n",
        "\n",
        "```\n",
        "1.\tConv2D (16 filters, 3×3, ReLU, same padding)\n",
        "2.\tMaxPooling2D (2×2, same padding)\n",
        "3.\tBatchNormalization\n",
        "4.\tConv2D (16 filters, 3×3, ReLU, same padding)\n",
        "5.\tMaxPooling2D (2×2, same padding)\n",
        "6.\tBatchNormalization\n",
        "7.\tConv2D (32 filters, 3×3, ReLU, same padding)\n",
        "8.\tMaxPooling2D (2×2, same padding)\n",
        "9.\tBatchNormalization\n",
        "10.\tFlatten\n",
        "11.\tDense (32 units, ReLU)\n",
        "12.\tDense (10 units, Softmax) → Final classification layer for 10 classes\n",
        "```"
      ]
    },
    {
      "cell_type": "markdown",
      "metadata": {},
      "source": [
        "Develop the model, train it, evaluate it and discuss the results using the same procedure than in previous tasks:"
      ]
    },
    {
      "cell_type": "code",
      "execution_count": null,
      "metadata": {},
      "outputs": [],
      "source": [
        "# YOUR CODE HERE!"
      ]
    },
    {
      "cell_type": "markdown",
      "metadata": {},
      "source": [
        "DISCUSSION HERE!"
      ]
    }
  ],
  "metadata": {
    "accelerator": "GPU",
    "colab": {
      "collapsed_sections": [],
      "name": "Student_Lab_4.ipynb",
      "provenance": [],
      "toc_visible": true
    },
    "kernelspec": {
      "display_name": "base",
      "language": "python",
      "name": "python3"
    },
    "language_info": {
      "codemirror_mode": {
        "name": "ipython",
        "version": 3
      },
      "file_extension": ".py",
      "mimetype": "text/x-python",
      "name": "python",
      "nbconvert_exporter": "python",
      "pygments_lexer": "ipython3",
      "version": "3.11.4"
    }
  },
  "nbformat": 4,
  "nbformat_minor": 0
}
