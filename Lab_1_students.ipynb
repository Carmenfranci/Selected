{
  "cells": [
    {
      "cell_type": "markdown",
      "metadata": {
        "colab_type": "text",
        "id": "view-in-github"
      },
      "source": [
        "<a href=\"https://drive.google.com/file/d/1-lmvLqHRoVztabnwQ8RbZuDhpsd1kmYY/view?usp=sharing\" target=\"_parent\"><img src=\"https://colab.research.google.com/assets/colab-badge.svg\" alt=\"Open In Colab\"/></a>"
      ]
    },
    {
      "cell_type": "markdown",
      "metadata": {
        "id": "C1kpc8L4BIgP"
      },
      "source": [
        "**Lab 1** for the course of *Selected Topics in Music and Acoustic Engineering* :\n",
        "\n",
        "***Machine Learning for Audio and Acoustic Engineering***\n",
        "---\n",
        "\n",
        "* Student 1: Carmen Frieda Franci\n",
        "* Student 2: Nicola Antonio Magno \n",
        "\n",
        "# **Before you start**\n",
        "\n",
        "*   Go to \"*File*\" --> \"*Save a copy in Drive*\"\n",
        "*   Open that copy (might open automatically)\n",
        "*   Then continue below\n"
      ]
    },
    {
      "cell_type": "markdown",
      "metadata": {},
      "source": [
        "**Import libraries**\n",
        "\n",
        "* We need a number of libraries. Import them once to use throughout the document."
      ]
    },
    {
      "cell_type": "code",
      "execution_count": 2,
      "metadata": {},
      "outputs": [],
      "source": [
        "import numpy as np\n",
        "import scipy.signal as signal\n",
        "import matplotlib.pyplot as plt\n",
        "plt.style.use(\"seaborn-v0_8\")\n",
        "import librosa, librosa.display\n",
        "import IPython"
      ]
    },
    {
      "cell_type": "markdown",
      "metadata": {
        "id": "8jL4DX2sRzc5"
      },
      "source": [
        "# **Lab 1: Basic Audio Processing in Python**"
      ]
    },
    {
      "cell_type": "markdown",
      "metadata": {
        "id": "S8kmdIHGSOO_"
      },
      "source": [
        "Python is a general-purpose programming language that is popular and easy to use. For new programmers, it is a great choice as a first programming language. In fact, more and more university CS departments are centering their introductory courses around Python.\n"
      ]
    },
    {
      "cell_type": "markdown",
      "metadata": {
        "id": "yc88qhCUSlQi"
      },
      "source": [
        "#### **The Python Tutorial**"
      ]
    },
    {
      "cell_type": "markdown",
      "metadata": {
        "id": "rU29AQPdSroE"
      },
      "source": [
        "If you are new to Python, you can follow this [Python Tutorial](https://docs.python.org/3.8/tutorial/index.html)."
      ]
    },
    {
      "cell_type": "markdown",
      "metadata": {
        "id": "OlrAcSY6S-Ao"
      },
      "source": [
        "For the purposes of this course, be sure you understand the following sections:\n",
        "\n",
        "Section 3: *An Informal Introduction to Python*\n",
        "\n",
        "*   numbers: int, float\n",
        "*   strings\n",
        "*   lists\n",
        "\n",
        "Section 4: *More Control Flow Tools*\n",
        "\n",
        "*   if statements\n",
        "*   for statements\n",
        "*   range\n",
        "*   functions\n",
        "\n",
        "Section 5: *Data Structures*\n",
        "\n",
        "*   list comprehensions\n",
        "*   tuples\n",
        "*   dictionaries\n",
        "*   looping techniques\n"
      ]
    },
    {
      "cell_type": "markdown",
      "metadata": {
        "id": "QvCdAQbXTfIG"
      },
      "source": [
        "Other resources:\n",
        "\n",
        "*   [The Hitchhiker's Guide to Python](http://docs.python-guide.org/en/latest/)\n",
        "*   [SciPy Lecture Notes](http://www.scipy-lectures.org/)\n",
        "*   [SciPy Lecture Notes](http://www.scipy-lectures.org/)\n",
        "*   [learnpython.org](https://www.learnpython.org/)\n"
      ]
    },
    {
      "cell_type": "markdown",
      "metadata": {
        "id": "iNJ-d4zDUwAl"
      },
      "source": [
        "### **Exercise 1**: Basic operations with arrays\n",
        "\n",
        "Use numpy to do the following array operations:"
      ]
    },
    {
      "cell_type": "markdown",
      "metadata": {
        "id": "7_KZjD1qVeH7"
      },
      "source": [
        "* Create a row vector v1: $[1,\\, 2,\\, 3]$ with shape (1,3)"
      ]
    },
    {
      "cell_type": "code",
      "execution_count": 3,
      "metadata": {
        "cellView": "both",
        "colab": {
          "base_uri": "https://localhost:8080/"
        },
        "id": "0K9YOAfgUudw",
        "outputId": "e9b543eb-5570-4e7b-e6e2-32699b7eec75"
      },
      "outputs": [
        {
          "name": "stdout",
          "output_type": "stream",
          "text": [
            "Shape of v1: (1, 3)\n"
          ]
        }
      ],
      "source": [
        "v1 = np.array([[1, 2, 3]])\n",
        "\n",
        "print(\"Shape of v1:\", v1.shape)"
      ]
    },
    {
      "cell_type": "markdown",
      "metadata": {},
      "source": [
        "Expected output:\n",
        "```\n",
        "(1, 3)\n",
        "```"
      ]
    },
    {
      "cell_type": "markdown",
      "metadata": {
        "id": "mFP7eMw3WHpK"
      },
      "source": [
        "* Create a column vector v2:  $[1,\\, 2,\\, 3]^T$"
      ]
    },
    {
      "cell_type": "code",
      "execution_count": 4,
      "metadata": {
        "cellView": "both",
        "colab": {
          "base_uri": "https://localhost:8080/"
        },
        "id": "PbhUZFAwS9dw",
        "outputId": "3a4fc912-22c8-46cb-a5ce-1240bbbdac99"
      },
      "outputs": [
        {
          "name": "stdout",
          "output_type": "stream",
          "text": [
            "Shape of v2: (3, 1)\n"
          ]
        }
      ],
      "source": [
        "v2 = np.array([[1], [2], [3]])\n",
        "\n",
        "print(\"Shape of v2:\", v2.shape)"
      ]
    },
    {
      "cell_type": "markdown",
      "metadata": {},
      "source": [
        "Expected output:\n",
        "```\n",
        "(3, 1)\n",
        "```"
      ]
    },
    {
      "cell_type": "markdown",
      "metadata": {
        "id": "8st6qXbvVdlV"
      },
      "source": [
        "* Create a matrix M of 3 x 3 of random integer elements:"
      ]
    },
    {
      "cell_type": "code",
      "execution_count": 5,
      "metadata": {
        "cellView": "both",
        "colab": {
          "base_uri": "https://localhost:8080/"
        },
        "id": "QVSG7JkiS3Cr",
        "outputId": "4ae88a21-cbc9-48ea-c3c8-3dfa51f22f1a"
      },
      "outputs": [],
      "source": [
        "# Create a 3x3 matrix with random integer elements (range 0-9)\n",
        "M = np.random.randint(0, 10, (3, 3))\n"
      ]
    },
    {
      "cell_type": "markdown",
      "metadata": {
        "id": "7JugjsGKiUdT"
      },
      "source": [
        "* Show the first row of M:"
      ]
    },
    {
      "cell_type": "code",
      "execution_count": 6,
      "metadata": {
        "cellView": "both",
        "colab": {
          "base_uri": "https://localhost:8080/"
        },
        "id": "KhuBABfTiVwA",
        "outputId": "5d883d45-a550-4f19-d55d-42832db2772c"
      },
      "outputs": [
        {
          "name": "stdout",
          "output_type": "stream",
          "text": [
            "First row of M: [9 2 6]\n"
          ]
        }
      ],
      "source": [
        "# Show the first row of M\n",
        "first_row = M[0, :]\n",
        "\n",
        "# Print the first row\n",
        "print(\"First row of M:\", first_row)"
      ]
    },
    {
      "cell_type": "markdown",
      "metadata": {
        "id": "kJQBvTwIiYJ_"
      },
      "source": [
        "* Show the first column of M:"
      ]
    },
    {
      "cell_type": "code",
      "execution_count": 7,
      "metadata": {
        "cellView": "both",
        "colab": {
          "base_uri": "https://localhost:8080/"
        },
        "id": "4yzMBh3TiZ0J",
        "outputId": "5f5294a4-587c-42a0-e5ed-02be228e2d7b"
      },
      "outputs": [
        {
          "name": "stdout",
          "output_type": "stream",
          "text": [
            "First column of M: [9 1 6]\n"
          ]
        }
      ],
      "source": [
        "# Show the first row of M\n",
        "first_column = M[:, 0]\n",
        "\n",
        "# Print the first row\n",
        "print(\"First column of M:\", first_column)"
      ]
    },
    {
      "cell_type": "markdown",
      "metadata": {
        "id": "RggOFdMQibCa"
      },
      "source": [
        "* Perform the matrix product v2 times v1:"
      ]
    },
    {
      "cell_type": "code",
      "execution_count": 8,
      "metadata": {
        "cellView": "both",
        "colab": {
          "base_uri": "https://localhost:8080/"
        },
        "id": "6pQv4B-BijZy",
        "outputId": "af0ac9c8-4ce2-4f9d-9778-c745150bfa63"
      },
      "outputs": [],
      "source": [
        "# Perform the matrix product v2 times v1\n",
        "matrix_product = v2 @ v1  "
      ]
    },
    {
      "cell_type": "markdown",
      "metadata": {
        "id": "xceP3-wVis_g"
      },
      "source": [
        "* Perform the matrix product v1 times v2:"
      ]
    },
    {
      "cell_type": "code",
      "execution_count": 9,
      "metadata": {
        "cellView": "both",
        "colab": {
          "base_uri": "https://localhost:8080/"
        },
        "id": "YSF1E-7-ivbg",
        "outputId": "f2fec0ee-d94b-4557-9c8c-a4b29c75af83"
      },
      "outputs": [],
      "source": [
        "# Perform the matrix product v1 * v2\n",
        "product = np.dot(v1, v2)"
      ]
    },
    {
      "cell_type": "markdown",
      "metadata": {
        "id": "3XgQGcMoi9AR"
      },
      "source": [
        "* Perform the element-wise multiplication of v2 and v1, with result having the shape of v2:"
      ]
    },
    {
      "cell_type": "code",
      "execution_count": 10,
      "metadata": {
        "cellView": "both",
        "colab": {
          "base_uri": "https://localhost:8080/"
        },
        "id": "1WvJbkY9jAi5",
        "outputId": "cc43ca31-a6d1-435b-ebc5-13826fd2a4cc"
      },
      "outputs": [],
      "source": [
        "# Perform element-wise multiplication of v2 and v1\n",
        "elementwise_product = v2 * v1 "
      ]
    },
    {
      "cell_type": "markdown",
      "metadata": {
        "id": "o_bZ72tfkA7D"
      },
      "source": [
        "* Perform the element-wise multiplication of v1 and v2, with result having the shape of v1:"
      ]
    },
    {
      "cell_type": "code",
      "execution_count": 11,
      "metadata": {
        "cellView": "both",
        "colab": {
          "base_uri": "https://localhost:8080/"
        },
        "id": "XzJ0low6kFRf",
        "outputId": "5367ed57-7614-42c0-ab79-97c543042f90"
      },
      "outputs": [],
      "source": [
        "# Perform element-wise multiplication of v1 and v2\n",
        "elementwise_product_v1 = v1 * v2.T  # Transpose v2 to match v1's shape"
      ]
    },
    {
      "cell_type": "markdown",
      "metadata": {
        "id": "U7dS02j5kfOf"
      },
      "source": [
        "* Generate an array of 20 equally-spaced numbers between 0 and 10:"
      ]
    },
    {
      "cell_type": "code",
      "execution_count": 12,
      "metadata": {
        "cellView": "both",
        "colab": {
          "base_uri": "https://localhost:8080/"
        },
        "id": "2eM6mjInki6_",
        "outputId": "a45201f6-f2c4-44b2-9d2e-029f0d60acb9"
      },
      "outputs": [
        {
          "name": "stdout",
          "output_type": "stream",
          "text": [
            "Array of equally-spaced numbers:\n",
            " [ 0.          0.52631579  1.05263158  1.57894737  2.10526316  2.63157895\n",
            "  3.15789474  3.68421053  4.21052632  4.73684211  5.26315789  5.78947368\n",
            "  6.31578947  6.84210526  7.36842105  7.89473684  8.42105263  8.94736842\n",
            "  9.47368421 10.        ]\n"
          ]
        }
      ],
      "source": [
        "# Generate an array of 20 equally-spaced numbers between 0 and 10\n",
        "array_linspace = np.linspace(0, 10, 20)\n",
        "# Print the result\n",
        "print(\"Array of equally-spaced numbers:\\n\", array_linspace)"
      ]
    },
    {
      "cell_type": "markdown",
      "metadata": {},
      "source": [
        "Expected output:\n",
        "```\n",
        "[ 0.          0.52631579  1.05263158  1.57894737  2.10526316  2.63157895\n",
        "  3.15789474  3.68421053  4.21052632  4.73684211  5.26315789  5.78947368\n",
        "  6.31578947  6.84210526  7.36842105  7.89473684  8.42105263  8.94736842\n",
        "  9.47368421 10.        ]\n",
        "```"
      ]
    },
    {
      "cell_type": "markdown",
      "metadata": {
        "id": "xL-ifNBGk8Zd"
      },
      "source": [
        "* Generate an array of numbers going from 0 to 1.5 in steps of 0.2:"
      ]
    },
    {
      "cell_type": "code",
      "execution_count": 13,
      "metadata": {
        "cellView": "both",
        "colab": {
          "base_uri": "https://localhost:8080/"
        },
        "id": "nDpfm3iUk3fL",
        "outputId": "ea8e1357-11e4-41d7-a9bd-bb5809b2cd5a"
      },
      "outputs": [
        {
          "name": "stdout",
          "output_type": "stream",
          "text": [
            "Array with step size 0.2:\n",
            " [0.  0.2 0.4 0.6 0.8 1.  1.2 1.4]\n"
          ]
        }
      ],
      "source": [
        "# Generate an array from 0 to 1.5 with step size 0.2\n",
        "array_arange = np.arange(0, 1.6, 0.2)  # 1.6 to include 1.5 due to floating point precision\n",
        "\n",
        "# Print the result\n",
        "print(\"Array with step size 0.2:\\n\", array_arange)"
      ]
    },
    {
      "cell_type": "markdown",
      "metadata": {},
      "source": [
        "Expected output:\n",
        "```\n",
        "array([0. , 0.2, 0.4, 0.6, 0.8, 1. , 1.2, 1.4])\n",
        "```"
      ]
    },
    {
      "cell_type": "markdown",
      "metadata": {
        "id": "hTvgi5gukrh9"
      },
      "source": [
        "* Generate an array of 13 logarithmically-spaced numbers between 1 and 2 (both included) using the numpy function logspace()"
      ]
    },
    {
      "cell_type": "code",
      "execution_count": 14,
      "metadata": {
        "cellView": "both",
        "colab": {
          "base_uri": "https://localhost:8080/"
        },
        "id": "_Yr1QMv3kx9d",
        "outputId": "793d2d9c-8f30-4a35-f32d-a544b917e29c"
      },
      "outputs": [
        {
          "name": "stdout",
          "output_type": "stream",
          "text": [
            "Logarithmically spaced array:\n",
            " [1.         1.05946309 1.12246205 1.18920712 1.25992105 1.33483985\n",
            " 1.41421356 1.49830708 1.58740105 1.68179283 1.78179744 1.88774863\n",
            " 2.        ]\n"
          ]
        }
      ],
      "source": [
        "# Generate an array of 13 logarithmically-spaced numbers between 1 and 2\n",
        "array_logspace = np.logspace(0, np.log10(2), 13)\n",
        "\n",
        "# Print the result\n",
        "print(\"Logarithmically spaced array:\\n\", array_logspace)"
      ]
    },
    {
      "cell_type": "markdown",
      "metadata": {},
      "source": [
        "Expected output:\n",
        "```\n",
        "array([1.        , 1.05946309, 1.12246205, 1.18920712, 1.25992105,\n",
        "       1.33483985, 1.41421356, 1.49830708, 1.58740105, 1.68179283,\n",
        "       1.78179744, 1.88774863, 2.        ])\n",
        "```"
      ]
    },
    {
      "cell_type": "markdown",
      "metadata": {
        "id": "mZ0eG0fHmLeb"
      },
      "source": [
        "* Generate the same array of 13 logarithmically-spaced numbers using fractional powers of 2 (i.e. ```2**...```):\n"
      ]
    },
    {
      "cell_type": "code",
      "execution_count": 15,
      "metadata": {
        "cellView": "both",
        "colab": {
          "base_uri": "https://localhost:8080/"
        },
        "id": "ZZolg60Lmd2V",
        "outputId": "4e76f0a0-47ea-45f7-c76c-680e38d1629b"
      },
      "outputs": [
        {
          "name": "stdout",
          "output_type": "stream",
          "text": [
            "Logarithmically spaced array using fractional powers of 2:\n",
            " [1.         1.05946309 1.12246205 1.18920712 1.25992105 1.33483985\n",
            " 1.41421356 1.49830708 1.58740105 1.68179283 1.78179744 1.88774863\n",
            " 2.        ]\n"
          ]
        }
      ],
      "source": [
        "# Generate an array of 13 logarithmically-spaced numbers using fractional powers of 2\n",
        "array_powers = 2 ** np.linspace(0, 1, 13)\n",
        "\n",
        "# Print the result\n",
        "print(\"Logarithmically spaced array using fractional powers of 2:\\n\", array_powers)"
      ]
    },
    {
      "cell_type": "markdown",
      "metadata": {},
      "source": [
        "Expected output:\n",
        "```\n",
        "array([1.        , 1.05946309, 1.12246205, 1.18920712, 1.25992105,\n",
        "       1.33483985, 1.41421356, 1.49830708, 1.58740105, 1.68179283,\n",
        "       1.78179744, 1.88774863, 2.        ])\n",
        "```"
      ]
    },
    {
      "cell_type": "markdown",
      "metadata": {
        "id": "VSjRF5FNnKO9"
      },
      "source": [
        "The generated array divides logarithmically an octave and can be used to generate fundamental frequencies for the pitches:\n",
        "\n",
        "Index | 0 | 1 | 2 | 3 | 4 | 5 | 6 | 7 | 8 | 9 | 10 | 11 | 12\n",
        "---| --- | --- | --- | --- | --- | --- | --- | --- | --- | --- | --- | --- | ---\n",
        "Pitch | A | A# | B | C | C# | D | D# | E | F | F# | G | G# | A$_2$  \n",
        "\n"
      ]
    },
    {
      "cell_type": "markdown",
      "metadata": {
        "id": "8IhU48iMpJqQ"
      },
      "source": [
        "* Use as a starting fundamental frequency, the one corresponding to A (440 Hz), and generate an array with the fundamental frequencies of each pitch:"
      ]
    },
    {
      "cell_type": "code",
      "execution_count": 16,
      "metadata": {
        "cellView": "both",
        "colab": {
          "base_uri": "https://localhost:8080/"
        },
        "id": "CwNY6ma0pRut",
        "outputId": "45c1d0d5-cac7-42e8-bdb9-cc26024b2c69"
      },
      "outputs": [
        {
          "name": "stdout",
          "output_type": "stream",
          "text": [
            "Fundamental frequencies of each pitch:\n",
            " [440.         466.16376152 493.88330126 523.2511306  554.36526195\n",
            " 587.32953583 622.25396744 659.25511383 698.45646287 739.98884542\n",
            " 783.99087196 830.60939516 880.        ]\n"
          ]
        }
      ],
      "source": [
        "# Define the fundamental frequency of A4 (440 Hz)\n",
        "A4_freq = 440.0\n",
        "\n",
        "# Generate an array of fundamental frequencies for each pitch\n",
        "pitches_freqs = A4_freq * 2 ** (np.arange(13) / 12)\n",
        "\n",
        "# Print the result\n",
        "print(\"Fundamental frequencies of each pitch:\\n\", pitches_freqs)"
      ]
    },
    {
      "cell_type": "markdown",
      "metadata": {},
      "source": [
        "Expected output:\n",
        "```\n",
        "[440.         466.16376152 493.88330126 523.2511306  554.36526195\n",
        " 587.32953583 622.25396744 659.25511383 698.45646287 739.98884542\n",
        " 783.99087196 830.60939516 880.        ]\n",
        "```"
      ]
    },
    {
      "cell_type": "markdown",
      "metadata": {
        "id": "HSfxlliRp5hF"
      },
      "source": [
        "### **Exercise 2**: Generation of notes"
      ]
    },
    {
      "cell_type": "markdown",
      "metadata": {
        "id": "8xPMyO2HqIpz"
      },
      "source": [
        "Assume a sampling frequency of fs = 16000 Hz, and generate a time vector with sampling instants between 0 s and 2 s:"
      ]
    },
    {
      "cell_type": "code",
      "execution_count": 17,
      "metadata": {
        "cellView": "both",
        "colab": {
          "base_uri": "https://localhost:8080/"
        },
        "id": "sSFW6V8Xp_7J",
        "outputId": "a80f4641-6f6e-4603-a64f-da28944de3ea"
      },
      "outputs": [
        {
          "name": "stdout",
          "output_type": "stream",
          "text": [
            "Time vector:\n",
            " [0.0000000e+00 6.2500000e-05 1.2500000e-04 ... 1.9998125e+00 1.9998750e+00\n",
            " 1.9999375e+00]\n"
          ]
        }
      ],
      "source": [
        "# Define sampling frequency\n",
        "fs = 16000  # Hz\n",
        "\n",
        "# Generate time vector from 0 to 2 seconds (inclusive of start, exclusive of end)\n",
        "t = np.arange(0, 2, 1/fs)\n",
        "\n",
        "# Print the result\n",
        "print(\"Time vector:\\n\", t)"
      ]
    },
    {
      "cell_type": "markdown",
      "metadata": {},
      "source": [
        "Expected output:\n",
        "```\n",
        "[0.0000000e+00 6.2500000e-05 1.2500000e-04 ... 1.9998125e+00 1.9998750e+00\n",
        " 1.9999375e+00]\n",
        "```"
      ]
    },
    {
      "cell_type": "markdown",
      "metadata": {
        "id": "iTc_0CpGqhRZ"
      },
      "source": [
        "### Tasks:\n",
        "* Generate an array containing the envelope shape:\n",
        "\n",
        "\\begin{equation}\n",
        "  a(t) = Ae^{-t/\\tau}\n",
        "\\end{equation}\n",
        "\n",
        "with $\\tau = 0.4$, $A=0.5$ and $t$ corresponding to a given time instant:"
      ]
    },
    {
      "cell_type": "code",
      "execution_count": 18,
      "metadata": {
        "cellView": "both",
        "colab": {
          "base_uri": "https://localhost:8080/"
        },
        "id": "pf84YYm9q3-n",
        "outputId": "e38f6257-f29c-44a2-b344-78b8c0f6a893"
      },
      "outputs": [
        {
          "name": "stdout",
          "output_type": "stream",
          "text": [
            "a = [0.5        0.49992188 0.49984377 ... 0.00337055 0.00337003 0.0033695 ]\n"
          ]
        }
      ],
      "source": [
        "\n",
        "# Define parameters\n",
        "tau = 0.4  # Time constant\n",
        "A = 0.5    # Amplitude\n",
        "\n",
        "# Generate time vector from 0 to 2 seconds (assuming fs = 16000 Hz)\n",
        "fs = 16000  # Sampling frequency\n",
        "t = np.arange(0, 2, 1/fs)  # Time instants\n",
        "\n",
        "# Compute the envelope function a(t)\n",
        "a = A * np.exp(-t / tau)\n",
        "\n",
        "# Print the result\n",
        "print(f'a = {a}')"
      ]
    },
    {
      "cell_type": "markdown",
      "metadata": {},
      "source": [
        "Expected output:\n",
        "```\n",
        "a = [0.5        0.49992188 0.49984377 ... 0.00337055 0.00337003 0.0033695 ]\n",
        "```"
      ]
    },
    {
      "cell_type": "markdown",
      "metadata": {
        "id": "P7BDPzqwrDnR"
      },
      "source": [
        "* Plot the envelope using Matplotlib:"
      ]
    },
    {
      "cell_type": "code",
      "execution_count": 19,
      "metadata": {
        "colab": {
          "base_uri": "https://localhost:8080/",
          "height": 527
        },
        "id": "qaRf5wPmDE50",
        "outputId": "63189cdd-2f62-4e0e-d87d-ecd3ad93e887"
      },
      "outputs": [
        {
          "data": {
            "image/png": "[encoded data removed]",
            "text/plain": [
              "<Figure size 1400x500 with 1 Axes>"
            ]
          },
          "metadata": {},
          "output_type": "display_data"
        }
      ],
      "source": [
        "# Create the figure\n",
        "plt.figure(figsize=(14, 5))\n",
        "\n",
        "# Plot the envelope\n",
        "plt.plot(t, a, label=r'$a(t) = A e^{-t/\\tau}$', color='blue')\n",
        "\n",
        "# Labels and title\n",
        "plt.xlabel(\"Time (s)\")\n",
        "plt.ylabel(\"Amplitude\")\n",
        "plt.title(\"Exponential Envelope\")\n",
        "plt.legend()\n",
        "\n",
        "# Show the plot\n",
        "plt.grid(True)\n",
        "plt.show()"
      ]
    },
    {
      "cell_type": "markdown",
      "metadata": {
        "id": "afP0T7-GrYh4"
      },
      "source": [
        "* Generate a sawtooth wave by using ```scipy.signal``` to generates notes with the model\n",
        "\n",
        "\\begin{equation}\n",
        "  x(t) = a(t) \\textrm{sawtooth}(2\\pi f_k t)\n",
        "\\end{equation}\n",
        "\n",
        "where $a(t)$ is the envelope (see above) and $f_k$ the fundamental frequencies of the $k$-th pitch as in the table of Exercise 1.\n",
        "\n",
        "Generate note signals for pitches A, C#, E and A$_2$:"
      ]
    },
    {
      "cell_type": "code",
      "execution_count": 20,
      "metadata": {
        "cellView": "both",
        "id": "34AgLU1drwyh"
      },
      "outputs": [],
      "source": [
        "# Add your code here!\n",
        "# x_A = ...\n",
        "# x_C = ...\n",
        "# ..."
      ]
    },
    {
      "cell_type": "markdown",
      "metadata": {
        "id": "EI-B1f7YtF3p"
      },
      "source": [
        "* Listen to each of the notes by using ``IPython.display.display(IPython.display.Audio(x, rate=fs))``"
      ]
    },
    {
      "cell_type": "code",
      "execution_count": 21,
      "metadata": {
        "cellView": "both",
        "colab": {
          "base_uri": "https://localhost:8080/",
          "height": 248
        },
        "id": "UWZvm0y-tObV",
        "outputId": "b855dbc7-0514-495a-d312-1085ea18561c"
      },
      "outputs": [],
      "source": [
        "# Add your code here!\n",
        "# IPython.display.display(IPython.display.Audio(..."
      ]
    },
    {
      "cell_type": "markdown",
      "metadata": {
        "id": "YkUElVUHtjLa"
      },
      "source": [
        "* Generate a vector arpegio by concatenating the four notes:"
      ]
    },
    {
      "cell_type": "code",
      "execution_count": 22,
      "metadata": {
        "cellView": "both",
        "colab": {
          "base_uri": "https://localhost:8080/",
          "height": 75
        },
        "id": "ToyAgtbctw8j",
        "outputId": "b380c1e7-d676-4e3e-8487-fc58cf83fe32"
      },
      "outputs": [],
      "source": [
        "# Add your code here!\n",
        "# arpegio = ...\n",
        "# IPython.display.display(IPython.display.Audio(arpegio, rate=fs))"
      ]
    },
    {
      "cell_type": "markdown",
      "metadata": {
        "id": "OF9Z_fIZt_K5"
      },
      "source": [
        "* Generate a vector chord made by summing up the four notes and dividing\n",
        "them by 4 to avoid clipping:"
      ]
    },
    {
      "cell_type": "code",
      "execution_count": 23,
      "metadata": {
        "cellView": "both",
        "colab": {
          "base_uri": "https://localhost:8080/",
          "height": 75
        },
        "id": "dRsIQX32uEhO",
        "outputId": "77b35edf-56dd-47da-a6c7-48d2dd4bbce7"
      },
      "outputs": [],
      "source": [
        "# Add your code here!\n",
        "# chord = ...\n",
        "# IPython.display.display(IPython.display.Audio(..."
      ]
    },
    {
      "cell_type": "markdown",
      "metadata": {
        "id": "ixXke6ZyzdhH"
      },
      "source": [
        "### **Exercise 3**: STFT Representation"
      ]
    },
    {
      "cell_type": "markdown",
      "metadata": {
        "id": "3UqtMKaQybdC"
      },
      "source": [
        "Now let's download a speech signal using the wget command. Then, we are going to read it with using ```librosa.load``` and show its sampling rate and duration.\n",
        "\n",
        "Note 1: The audio file can be also downloaded and imported into you colab space manually.\n",
        "\n",
        "Note 2: By default, ```librosa.load``` resample the input signal to 22050Hz. If we want to keep the original sampling frequency, then use ```sr=None```."
      ]
    },
    {
      "cell_type": "code",
      "execution_count": 24,
      "metadata": {},
      "outputs": [],
      "source": [
        "# !pip install wget\n",
        "# !wget -P sample_data/ https://www.voiptroubleshooter.com/open_speech/american/OSR_us_000_0010_8k.wav"
      ]
    },
    {
      "cell_type": "code",
      "execution_count": 25,
      "metadata": {
        "colab": {
          "base_uri": "https://localhost:8080/"
        },
        "collapsed": true,
        "id": "aQ1vcJK_FjoZ",
        "outputId": "0fdb1f3e-51ac-45a3-cd99-65da8bb4e8c3"
      },
      "outputs": [],
      "source": [
        "# Add your code here!\n",
        "# signal, sample_rate = librosa.load(...\n",
        "# ..."
      ]
    },
    {
      "cell_type": "markdown",
      "metadata": {},
      "source": [
        "Expected output:\n",
        "```\n",
        "Sample rate:  8000\n",
        "Signal duration 33.623125\n",
        "```"
      ]
    },
    {
      "cell_type": "markdown",
      "metadata": {
        "id": "NV0jYBoPy4V6"
      },
      "source": [
        "### Taks:\n",
        "* Cut the signal to show only the third spoken sentence (from t=7 s to t = 10 s). Represent it with respect to time in seconds."
      ]
    },
    {
      "cell_type": "code",
      "execution_count": 26,
      "metadata": {
        "cellView": "both",
        "colab": {
          "base_uri": "https://localhost:8080/",
          "height": 430
        },
        "id": "vI4yfj-DzEiF",
        "outputId": "b85a499b-6332-467a-fd72-33ef03f3f511"
      },
      "outputs": [
        {
          "data": {
            "text/plain": [
              "<Figure size 1400x500 with 0 Axes>"
            ]
          },
          "execution_count": 26,
          "metadata": {},
          "output_type": "execute_result"
        },
        {
          "data": {
            "text/plain": [
              "<Figure size 1400x500 with 0 Axes>"
            ]
          },
          "metadata": {},
          "output_type": "display_data"
        }
      ],
      "source": [
        "plt.figure(figsize=(14,5))\n",
        "# Add your code here!"
      ]
    },
    {
      "cell_type": "markdown",
      "metadata": {},
      "source": [
        "* Now listen to the selected audio segment:"
      ]
    },
    {
      "cell_type": "code",
      "execution_count": 27,
      "metadata": {
        "cellView": "both",
        "colab": {
          "base_uri": "https://localhost:8080/",
          "height": 93
        },
        "id": "ilAaNnU4l38h",
        "outputId": "c60de2dd-dd29-4ee6-9d2f-8b18236bd780"
      },
      "outputs": [],
      "source": [
        "#Here we load the signal to the python player\n",
        "# IPython.display.display(IPython.display.Audio(..."
      ]
    },
    {
      "cell_type": "markdown",
      "metadata": {
        "id": "Za6XhhSJz66Z"
      },
      "source": [
        "Create a function \"enframe\" that takes as input:\n",
        "\n",
        "*   signal (one-dimensional)\n",
        "*   frame length (in samples)\n",
        "*   hop size (in samples)\n",
        "\n",
        "and returns a matrix where each column stores a frame of the signal. The function should pad the signal with zeroes if necessary.\n",
        "\n",
        "Here is the pseudocode:\n",
        "\n",
        "\n",
        "\n",
        "```\n",
        "FUNCTION enframe(signal, frame_length, hop_size)\n",
        "    INPUT:\n",
        "        signal: Array containing the audio signal samples\n",
        "        frame_length: Integer, the number of samples per frame\n",
        "        hop_size: Integer, the number of samples to step between frames\n",
        "    OUTPUT:\n",
        "        frames: 2D Array where each row is a frame of the signal\n",
        "\n",
        "    INITIALIZE empty list frames\n",
        "\n",
        "    CALCULATE total_frames = CEIL((length of signal - frame_length) / hop_size) + 1\n",
        "\n",
        "    CALCULATE padding_needed = (total_frames - 1) * hop_size + frame_length - length of signal\n",
        "\n",
        "    IF padding_needed > 0 THEN\n",
        "        APPEND padding_needed zeros to signal\n",
        "\n",
        "    FOR i FROM 0 TO total_frames - 1\n",
        "        START_INDEX = i * hop_size\n",
        "        END_INDEX = START_INDEX + frame_length\n",
        "\n",
        "        APPEND signal[START_INDEX:END_INDEX] TO frames\n",
        "\n",
        "    RETURN frames\n",
        "END FUNCTION\n",
        "```"
      ]
    },
    {
      "cell_type": "code",
      "execution_count": 28,
      "metadata": {
        "cellView": "both",
        "id": "gBjqQsQi0hJ5"
      },
      "outputs": [],
      "source": [
        "def enframe(signal, frame_length, hop_size):\n",
        "    # Add your code here!\n",
        "    # frames = ...\n",
        "    return frames"
      ]
    },
    {
      "cell_type": "markdown",
      "metadata": {
        "id": "xElwhCgbzk-f"
      },
      "source": [
        "* Divide the signal into frames of length 512, using a hop size of 256 samples. Show the dimensions of the output."
      ]
    },
    {
      "cell_type": "code",
      "execution_count": 29,
      "metadata": {
        "cellView": "both",
        "colab": {
          "base_uri": "https://localhost:8080/"
        },
        "id": "bPze-HT61ppw",
        "outputId": "f93d1acf-7d74-44c6-df5b-c56f28a27b9c"
      },
      "outputs": [],
      "source": [
        "frame_length= 512\n",
        "hop_size = 256\n",
        "# Add your code here!\n",
        "#..."
      ]
    },
    {
      "cell_type": "markdown",
      "metadata": {},
      "source": [
        "Expected output:\n",
        "```\n",
        "shape = (512, 93)\n",
        "```"
      ]
    },
    {
      "cell_type": "markdown",
      "metadata": {
        "id": "KlYgZCT02FhH"
      },
      "source": [
        "* Plot the content of the 10-th frame:"
      ]
    },
    {
      "cell_type": "code",
      "execution_count": 30,
      "metadata": {
        "cellView": "both",
        "colab": {
          "base_uri": "https://localhost:8080/",
          "height": 429
        },
        "id": "EjPFmc102Acn",
        "outputId": "cfa3c08a-6c26-497e-ecec-94e1c6622440"
      },
      "outputs": [
        {
          "data": {
            "text/plain": [
              "<Figure size 1400x500 with 0 Axes>"
            ]
          },
          "execution_count": 30,
          "metadata": {},
          "output_type": "execute_result"
        },
        {
          "data": {
            "text/plain": [
              "<Figure size 1400x500 with 0 Axes>"
            ]
          },
          "metadata": {},
          "output_type": "display_data"
        }
      ],
      "source": [
        "plt.figure(figsize=(14,5))\n",
        "# Add your code here!\n",
        "#..."
      ]
    },
    {
      "cell_type": "markdown",
      "metadata": {
        "id": "xY7rrQo02QhI"
      },
      "source": [
        "* Create a Hamming function and apply it to each of your frames:"
      ]
    },
    {
      "cell_type": "code",
      "execution_count": 31,
      "metadata": {
        "cellView": "both",
        "id": "but9kJwz2EmK"
      },
      "outputs": [],
      "source": [
        "# Add your code here!\n",
        "# winfunc = np.hamming(frame_length)\n",
        "#..."
      ]
    },
    {
      "cell_type": "markdown",
      "metadata": {
        "id": "Yef9eDn62c0B"
      },
      "source": [
        "* Plot again the 10-th frame after having applied your Hamming window:"
      ]
    },
    {
      "cell_type": "code",
      "execution_count": 32,
      "metadata": {
        "cellView": "both",
        "colab": {
          "base_uri": "https://localhost:8080/",
          "height": 429
        },
        "id": "iR6l9A872hEn",
        "outputId": "2448725e-5c9c-4caa-dc51-3a6a6fcdd1d5"
      },
      "outputs": [
        {
          "data": {
            "text/plain": [
              "<Figure size 1400x500 with 0 Axes>"
            ]
          },
          "execution_count": 32,
          "metadata": {},
          "output_type": "execute_result"
        },
        {
          "data": {
            "text/plain": [
              "<Figure size 1400x500 with 0 Axes>"
            ]
          },
          "metadata": {},
          "output_type": "display_data"
        }
      ],
      "source": [
        "plt.figure(figsize=(14,5))\n",
        "# Add your code here!\n",
        "#..."
      ]
    },
    {
      "cell_type": "markdown",
      "metadata": {
        "id": "ctHRttbo2nkA"
      },
      "source": [
        "* Compute the DFT of each column (frame) using numpy's ```rfft()``` function. Use as number of FFT points the same value as window length."
      ]
    },
    {
      "cell_type": "code",
      "execution_count": 33,
      "metadata": {
        "cellView": "both",
        "id": "KF7_w1Yk20UA"
      },
      "outputs": [],
      "source": [
        "NFFT = frame_length\n",
        "# Add your code here!\n",
        "#..."
      ]
    },
    {
      "cell_type": "markdown",
      "metadata": {
        "id": "nv425xhJ3Esf"
      },
      "source": [
        "* Use the following function to represent the result with the indices of each frame and each frequency bin in the horizontal and vertical axes, respectively.\n",
        "\n"
      ]
    },
    {
      "cell_type": "code",
      "execution_count": 34,
      "metadata": {
        "cellView": "both",
        "id": "jlVhzZRC3Hvw"
      },
      "outputs": [],
      "source": [
        "def show_specgram(X,ratio,limits,cmin):\n",
        "  '''This function represents matrix X within a figure having the desired\n",
        "  aspect ratio.\n",
        "  Input:\n",
        "    - X: matrix to represent\n",
        "    - ratio: aspect ratio of axes\n",
        "    - limits: array with [xmin, xmax, ymax, ymin] (y axis is reversed)\n",
        "    - cmin: minimum value corresponding to the bottom of the colormap scale.\n",
        "  Output:\n",
        "    - figure handle\n",
        "  '''\n",
        "  w, h = plt.figaspect(ratio);\n",
        "  fig = plt.figure(figsize=(w*2, h*2))\n",
        "  ax = fig.add_axes([0.1, 0.1, 0.8, 0.8])\n",
        "  im = ax.imshow(X, extent = limits, cmap='viridis', interpolation='none')\n",
        "  xleft, xright = ax.get_xlim()\n",
        "  ybottom, ytop = ax.get_ylim()\n",
        "  ax.set_aspect(abs((xright-xleft)/(ybottom-ytop))*ratio)\n",
        "  ax.invert_yaxis()\n",
        "  if cmin != None:\n",
        "    cbar = plt.colorbar(im)\n",
        "    cbar.mappable.set_clim(cmin, None)\n",
        "  return ax"
      ]
    },
    {
      "cell_type": "markdown",
      "metadata": {},
      "source": [
        "* Now let's use the function ```show_spectrogram```to display the log power spectrogram ```(10*np.log10(np.abs(X)**2)``.\n",
        "\n",
        "Note: User parameters ratio=0.7 and  cmin=-50"
      ]
    },
    {
      "cell_type": "code",
      "execution_count": 35,
      "metadata": {
        "cellView": "both",
        "colab": {
          "base_uri": "https://localhost:8080/",
          "height": 789
        },
        "id": "tIu_KJKH3KSP",
        "outputId": "8761ce30-166d-4875-c3d0-a85a1158367b"
      },
      "outputs": [],
      "source": [
        "# Add your code here!\n",
        "# ax = show_specgram(...\n",
        "# ..."
      ]
    },
    {
      "cell_type": "markdown",
      "metadata": {
        "id": "BcUJS0TJ4DIr"
      },
      "source": [
        "* Finally, represent again the spectrogram but as a function of the time in seconds and frequency in Hz."
      ]
    },
    {
      "cell_type": "code",
      "execution_count": 36,
      "metadata": {
        "cellView": "both",
        "colab": {
          "base_uri": "https://localhost:8080/",
          "height": 784
        },
        "id": "4VdNvWO14YvK",
        "outputId": "aa0ddd8b-59e2-4b9c-e668-9b388e9ec8d5"
      },
      "outputs": [],
      "source": [
        "# Add your code here!\n",
        "# f_bins = ...\n",
        "# time_seconds = ...\n",
        "# ax = show_specgram(..."
      ]
    },
    {
      "cell_type": "markdown",
      "metadata": {
        "id": "jjlrBCS243TP"
      },
      "source": [
        "### **Exercise 4**: Librosa representations (STFT)"
      ]
    },
    {
      "cell_type": "markdown",
      "metadata": {},
      "source": [
        "Let's first check the librosa documentation: https://librosa.org/doc/main/generated/librosa.stft.html?highlight=stft#librosa-stft\n",
        "\n",
        "The most important parameters are:\n",
        "  - **win_length** - this is the size of our analysis window (in samples)\n",
        "  - **hop_length** - this is the hop size of our analysis window (in samples), usually this is chosen to be half the window size\n",
        "  - (**n_fft**) - this is the used \"FFT size\", which can be bigger than the **win_length** (but should be a power of two, such that the Fast Fourier Transform (FFT) algorithm can be used internally)\n",
        "  "
      ]
    },
    {
      "cell_type": "markdown",
      "metadata": {
        "id": "D_-92E3h5AyB"
      },
      "source": [
        "### Tasks:\n",
        "* Use librosa to represent the power spectrogram of the signal, as we computed manually in the last exercise."
      ]
    },
    {
      "cell_type": "code",
      "execution_count": 37,
      "metadata": {
        "cellView": "both",
        "colab": {
          "base_uri": "https://localhost:8080/",
          "height": 826
        },
        "id": "--u8sRTB5Mqr",
        "outputId": "7ecaa2e0-ef13-448c-da8f-8226ccb92461"
      },
      "outputs": [],
      "source": [
        "# Add your code here!\n",
        "# X = librosa.stft(...\n",
        "# X_pow_db = librosa.power_to_db(np.abs(X)**2)\n",
        "\n",
        "# w, h = plt.figaspect(0.7);\n",
        "# plt.figure(figsize=(w*2,h*2));\n",
        "# librosa.display.specshow(..."
      ]
    },
    {
      "cell_type": "markdown",
      "metadata": {
        "id": "SaNTggTS59wL"
      },
      "source": [
        "* Experiment with different values of frame length and hop size and discuss the results."
      ]
    },
    {
      "cell_type": "code",
      "execution_count": 38,
      "metadata": {},
      "outputs": [],
      "source": [
        "# Add your code here!\n",
        "# frame_length = ...\n",
        "# hop_size = ...\n",
        "# ..."
      ]
    },
    {
      "cell_type": "markdown",
      "metadata": {
        "id": "AHO70cAiSrNc"
      },
      "source": [
        "**Case 1 - Decrease the frame length and hop size to 1/4 of the original value**\n",
        "\n",
        "WRITE YOUR CONCLUSIONS HERE!"
      ]
    },
    {
      "cell_type": "markdown",
      "metadata": {
        "id": "Q8cAlQMJTB8m"
      },
      "source": [
        "**Case 2 - Increase the frame length and hop size to x2 of the original values**\n",
        "\n",
        "WRITE YOUR CONCLUSIONS HERE!"
      ]
    },
    {
      "cell_type": "markdown",
      "metadata": {
        "id": "PKLfGMVWUH7m"
      },
      "source": [
        "**Case 3 - Increasing the frame length and decreasing the overlapping of frames simultaneously**\n",
        "\n",
        "WRITE YOUR CONCLUSIONS HERE!"
      ]
    },
    {
      "cell_type": "markdown",
      "metadata": {
        "id": "70MyBIut6NWu"
      },
      "source": [
        "### **Exercise 5**: Mel-Spectrograms"
      ]
    },
    {
      "cell_type": "markdown",
      "metadata": {
        "id": "zsoFqtwn6a1A"
      },
      "source": [
        "Let's first check the librosa documentation: https://librosa.org/doc/main/generated/librosa.feature.melspectrogram.html\n",
        "\n",
        "The most important parameters are \n",
        "  - **y** - audio sample vector ($x$)\n",
        "  - **sr** - sampling rate of the audio signal (in Hz)\n",
        "  - **n_mels** - number of Mel frequency bands (commonly: 64 or 128)\n",
        "  - **win_length** - see above (STFT)\n",
        "  - **hop_length** - see above (STFT)\n",
        "  - **n_fft** - see above (STFT)"
      ]
    },
    {
      "cell_type": "markdown",
      "metadata": {},
      "source": [
        "### Tasks:\n",
        "* Compute the mel spectrogram using librosa. Experiment with different values of the parameters and discuss the results."
      ]
    },
    {
      "cell_type": "markdown",
      "metadata": {
        "id": "pLPTaEgee2-z"
      },
      "source": [
        "**Case 1 - Setting number of Mel bands to be generated as 40**\n",
        "\n",
        "Take 40 mel bands is a typical number used as a best practice."
      ]
    },
    {
      "cell_type": "code",
      "execution_count": 39,
      "metadata": {
        "cellView": "both",
        "colab": {
          "base_uri": "https://localhost:8080/",
          "height": 675
        },
        "id": "JHWa51vE6iLA",
        "outputId": "7af86e02-96bc-4e1d-ebbb-c9a5b5158ef8"
      },
      "outputs": [
        {
          "ename": "NameError",
          "evalue": "name 'X_mel' is not defined",
          "output_type": "error",
          "traceback": [
            "\u001b[1;31m---------------------------------------------------------------------------\u001b[0m",
            "\u001b[1;31mNameError\u001b[0m                                 Traceback (most recent call last)",
            "Cell \u001b[1;32mIn[39], line 10\u001b[0m\n\u001b[0;32m      1\u001b[0m \u001b[38;5;66;03m# Add your code here!\u001b[39;00m\n\u001b[0;32m      2\u001b[0m \u001b[38;5;66;03m# reseting original values of frame length and hop size\u001b[39;00m\n\u001b[0;32m      3\u001b[0m \u001b[38;5;66;03m# frame_length = ...\u001b[39;00m\n\u001b[1;32m   (...)\u001b[0m\n\u001b[0;32m      6\u001b[0m \u001b[38;5;66;03m# \u001b[39;00m\n\u001b[0;32m      7\u001b[0m \u001b[38;5;66;03m# X_mel = librosa.feature.melspectrogram(...\u001b[39;00m\n\u001b[0;32m      9\u001b[0m plt\u001b[38;5;241m.\u001b[39mfigure(figsize\u001b[38;5;241m=\u001b[39m(\u001b[38;5;241m15\u001b[39m,\u001b[38;5;241m8\u001b[39m));\n\u001b[1;32m---> 10\u001b[0m librosa\u001b[38;5;241m.\u001b[39mdisplay\u001b[38;5;241m.\u001b[39mspecshow(librosa\u001b[38;5;241m.\u001b[39mpower_to_db(\u001b[43mX_mel\u001b[49m), sr\u001b[38;5;241m=\u001b[39msample_rate, hop_length\u001b[38;5;241m=\u001b[39mhop_size, x_axis\u001b[38;5;241m=\u001b[39m\u001b[38;5;124m'\u001b[39m\u001b[38;5;124mtime\u001b[39m\u001b[38;5;124m'\u001b[39m, y_axis\u001b[38;5;241m=\u001b[39m\u001b[38;5;124m'\u001b[39m\u001b[38;5;124mmel\u001b[39m\u001b[38;5;124m'\u001b[39m, fmax\u001b[38;5;241m=\u001b[39msample_rate\u001b[38;5;241m/\u001b[39m\u001b[38;5;241m2\u001b[39m, cmap\u001b[38;5;241m=\u001b[39m\u001b[38;5;124m'\u001b[39m\u001b[38;5;124mviridis\u001b[39m\u001b[38;5;124m'\u001b[39m);\n\u001b[0;32m     11\u001b[0m plt\u001b[38;5;241m.\u001b[39mclim(\u001b[38;5;241m-\u001b[39m\u001b[38;5;241m40\u001b[39m,\u001b[38;5;28;01mNone\u001b[39;00m);\n\u001b[0;32m     12\u001b[0m plt\u001b[38;5;241m.\u001b[39mcolorbar();\n",
            "\u001b[1;31mNameError\u001b[0m: name 'X_mel' is not defined"
          ]
        },
        {
          "data": {
            "text/plain": [
              "<Figure size 1500x800 with 0 Axes>"
            ]
          },
          "metadata": {},
          "output_type": "display_data"
        }
      ],
      "source": [
        "# Add your code here!\n",
        "# reseting original values of frame length and hop size\n",
        "# frame_length = ...\n",
        "# hop_size = ...\n",
        "# n_mels = ...\n",
        "# \n",
        "# X_mel = librosa.feature.melspectrogram(...\n",
        "\n",
        "plt.figure(figsize=(15,8));\n",
        "librosa.display.specshow(librosa.power_to_db(X_mel), sr=sample_rate, hop_length=hop_size, x_axis='time', y_axis='mel', fmax=sample_rate/2, cmap='viridis');\n",
        "plt.clim(-40,None);\n",
        "plt.colorbar();\n",
        "plt.title('Mel-scale Spectrogram (Librosa) - 40 Mel Filters');"
      ]
    },
    {
      "cell_type": "markdown",
      "metadata": {
        "id": "pYJopHXHfDcQ"
      },
      "source": [
        "**Case 2 - Decreasing number of Mel bands to 10**"
      ]
    },
    {
      "cell_type": "code",
      "execution_count": 24,
      "metadata": {
        "cellView": "both",
        "colab": {
          "base_uri": "https://localhost:8080/",
          "height": 675
        },
        "id": "EuImZ9cFfIGZ",
        "outputId": "db62e9a0-bbc7-4cac-c504-32845091e4b8"
      },
      "outputs": [],
      "source": [
        "# Add your code here!\n",
        "# n_mels = 10\n",
        "# X_mel = ..."
      ]
    },
    {
      "cell_type": "markdown",
      "metadata": {},
      "source": [
        "WRITE YOUR CONCLUSIONS HERE!"
      ]
    },
    {
      "cell_type": "markdown",
      "metadata": {
        "id": "LucxVIeN6o3Y"
      },
      "source": [
        "### Now let's perform a similar analysis with a music signal (\"oboe_c6.wav\").\n"
      ]
    },
    {
      "cell_type": "code",
      "execution_count": null,
      "metadata": {
        "cellView": "both",
        "colab": {
          "base_uri": "https://localhost:8080/",
          "height": 271
        },
        "id": "Stt8BBai7QIY",
        "outputId": "fab61e5b-2fe9-4f2b-dc90-6afc466b779a"
      },
      "outputs": [],
      "source": [
        "# !wget -P sample_data/ https://ccrma.stanford.edu/workshops/dsp2008/sound-library/oboe/Oboe1/Oboe-C6.wav\n",
        "\n",
        "oboeC6 , sr = librosa.load('./content/sample_data/Oboe-C6.wav', sr=None)\n",
        "IPython.display.display(IPython.display.Audio(oboeC6, rate=sr))"
      ]
    },
    {
      "cell_type": "markdown",
      "metadata": {
        "id": "BwzQ9pNOgH5k"
      },
      "source": [
        "\n",
        "**Case 1 - Setting number of Mel bands to be generated as 40**"
      ]
    },
    {
      "cell_type": "code",
      "execution_count": 94,
      "metadata": {
        "cellView": "both",
        "colab": {
          "base_uri": "https://localhost:8080/",
          "height": 652
        },
        "id": "bRKDYye7-m3c",
        "outputId": "40ccc2e8-21c4-4e31-80b2-2c9ed83ec02f"
      },
      "outputs": [
        {
          "data": {
            "image/png": "[encoded data removed]",
            "text/plain": [
              "<Figure size 1500x800 with 2 Axes>"
            ]
          },
          "metadata": {},
          "output_type": "display_data"
        }
      ],
      "source": [
        "# Your code here!\n",
        "# ...\n",
        "# X_ob_mel = librosa.feature.melspectrogram(...\n",
        "# ...\n",
        "# plt.figure(figsize=(15,8));\n",
        "# librosa.display.specshow(..."
      ]
    },
    {
      "cell_type": "markdown",
      "metadata": {
        "id": "gKmDcBCVgCyb"
      },
      "source": [
        "**Case 2 - Decreasing number of Mel bands to 10**"
      ]
    },
    {
      "cell_type": "code",
      "execution_count": 95,
      "metadata": {
        "cellView": "both",
        "colab": {
          "base_uri": "https://localhost:8080/",
          "height": 652
        },
        "id": "KhCV20ORgBxn",
        "outputId": "7cb10a22-61cf-4640-a4aa-1f85ca19c032"
      },
      "outputs": [
        {
          "data": {
            "image/png": "[encoded data removed]",
            "text/plain": [
              "<Figure size 1500x800 with 2 Axes>"
            ]
          },
          "metadata": {},
          "output_type": "display_data"
        }
      ],
      "source": [
        "# Your code here!"
      ]
    },
    {
      "cell_type": "markdown",
      "metadata": {},
      "source": [
        "* Oboe analysis:\n",
        "\n",
        "WRITE YOUR CONCLUSIONS HERE!"
      ]
    },
    {
      "cell_type": "markdown",
      "metadata": {
        "id": "MZIDiizu7_SJ"
      },
      "source": [
        "### **Exercise 6**: Constant-Q Transform"
      ]
    },
    {
      "cell_type": "markdown",
      "metadata": {},
      "source": [
        "Let's first check the librosa documentation: https://librosa.org/doc/main/generated/librosa.cqt.html\n",
        "\n",
        "The most important parameters are \n",
        "  - **y** - audio sample vector ($x$)\n",
        "  - **sr** - sampling rate of the audio signal (in Hz)\n",
        "  - **hop_length** - see above (STFT)\n",
        "  - **f_min** - minimum frequency (we can use the default value of 32.70 Hz which corresponds to the note C1)\n",
        "  - **n_bins** - total number of frequency bins (e.g., for a frequency resolution of one bin per semitone and 4 octaves, this would be 4 * 12 = 48)\n",
        "  - **bins_per_octave** - Logarithmic frequency resolution (frequency bins per octave, commonly: 12 or 36)\n",
        "  - **tuning** - Tuning offset (can be used if known tuning frequency of an audio recording deviates from 440 Hz) \n",
        "\n",
        "HINTS:\n",
        "\n",
        "```Num of Octaves = n_bins / bins_per_octave```\n",
        "\n",
        "```Max Frequency = fmin * 2**() n_bins / bins_per_octave```\n",
        "  "
      ]
    },
    {
      "cell_type": "markdown",
      "metadata": {
        "id": "BNw0qX0I8N_Z"
      },
      "source": [
        "### Tasks:\n",
        "* Compute the constant Q transform using librosa.\n",
        "Experiment with different values of the parameters and discuss the results."
      ]
    },
    {
      "cell_type": "markdown",
      "metadata": {
        "id": "HoCVeqiAop_A"
      },
      "source": [
        "**Case 1 - The default librosa.display.specshow parameter values.**"
      ]
    },
    {
      "cell_type": "code",
      "execution_count": 96,
      "metadata": {
        "cellView": "both",
        "id": "O9saAdH78kE5"
      },
      "outputs": [],
      "source": [
        "# Add your code here!\n",
        "# x, sr = librosa.load(...\n",
        "# C = librosa.cqt(...\n",
        "# logC = librosa.amplitude_to_db(\n",
        "plt.figure(figsize=(15,8));\n",
        "librosa.display.specshow(logC, sr=sr, x_axis='time', y_axis='cqt_note', cmap='viridis');\n",
        "plt.xlabel('Time [s]');\n",
        "plt.title('Constant-Q Transform Power Specturm');"
      ]
    },
    {
      "cell_type": "markdown",
      "metadata": {
        "id": "PuW7KFXKmkJg"
      },
      "source": [
        "**Case 2 - Limit the frequency range (fmin=Hz(C5)) -  increasing `bins_per_octave` to 24 **"
      ]
    },
    {
      "cell_type": "code",
      "execution_count": 25,
      "metadata": {
        "cellView": "both",
        "colab": {
          "base_uri": "https://localhost:8080/",
          "height": 660
        },
        "id": "px6M7Bqrmjg7",
        "outputId": "457f8b3b-7993-49c9-81c7-fba02b52b38f"
      },
      "outputs": [],
      "source": [
        "# Your code here\n",
        "# fmin=librosa.note_to_hz('C5')\n",
        "# ..."
      ]
    },
    {
      "cell_type": "markdown",
      "metadata": {
        "id": "CaZMSZPcvONB"
      },
      "source": [
        "**Case 3 - Limit the frequency range (fmin=Hz(C5))- decrease the `n_bins` to 53 **"
      ]
    },
    {
      "cell_type": "code",
      "execution_count": 26,
      "metadata": {
        "cellView": "both",
        "colab": {
          "base_uri": "https://localhost:8080/",
          "height": 660
        },
        "id": "t0Lfuj9mthoz",
        "outputId": "9cc81d6e-bada-4a2d-cc70-7b3fd9ddd4f5"
      },
      "outputs": [],
      "source": [
        "# Your code here\n",
        "# fmin=librosa.note_to_hz('C5')\n",
        "# ..."
      ]
    },
    {
      "cell_type": "markdown",
      "metadata": {},
      "source": [
        "* CQT Analysis\n",
        "\n",
        "WRITE YOUR CONCLUSIONS HERE!"
      ]
    },
    {
      "cell_type": "markdown",
      "metadata": {
        "id": "025-uKmc9zcC"
      },
      "source": [
        "### **Exercise 7**: MFCCs"
      ]
    },
    {
      "cell_type": "markdown",
      "metadata": {},
      "source": [
        "Let's first check the librosa documentation: https://librosa.org/doc/latest/generated/librosa.feature.mfcc.html#librosa.feature.mfcc\n",
        "\n",
        "The most important parameters are \n",
        "  - **y** - audio sample vector ($x$)\n",
        "  - **sr** - sampling rate of the audio signal (in Hz)\n",
        "  - **n_fft** - see above (STFT)\n",
        "  - **hop_length** - see above (STFT)\n",
        "  - **n_mfcc** - Number of MFC coefficients  "
      ]
    },
    {
      "cell_type": "markdown",
      "metadata": {
        "id": "KiQgegDZ97ZH"
      },
      "source": [
        "### Tasks:\n",
        "* Compute MFCCs using librosa. Experiment with different values of the parameters and discuss the results."
      ]
    },
    {
      "cell_type": "markdown",
      "metadata": {
        "id": "rd8wNpTn2q6Y"
      },
      "source": [
        "**Case 1 - Using the standard librosa.feature.mfcc function on the audio file OSR_us_000_0010_8k.wav (seconds 7 to 10)**"
      ]
    },
    {
      "cell_type": "code",
      "execution_count": 101,
      "metadata": {
        "cellView": "both",
        "colab": {
          "base_uri": "https://localhost:8080/",
          "height": 662
        },
        "id": "4MZO_c_B-BRg",
        "outputId": "17116846-e7bc-41e7-ed56-0363a71f8c1d"
      },
      "outputs": [
        {
          "data": {
            "image/png": "[encoded data removed]",
            "text/plain": [
              "<Figure size 1500x800 with 2 Axes>"
            ]
          },
          "metadata": {},
          "output_type": "display_data"
        }
      ],
      "source": [
        "# Add your code here!\n",
        "# signal, sample_rate = librosa.load(...\n",
        "# ...\n",
        "\n",
        "plt.figure(figsize=(15,8));\n",
        "librosa.display.specshow(X_mfcc, sr=sample_rate, hop_length=hop_length, x_axis='time', cmap='viridis');\n",
        "plt.clim(-40,None);\n",
        "plt.colorbar();\n",
        "plt.xlabel('Time [s]');\n",
        "plt.ylabel('MFCC Coefficient');"
      ]
    },
    {
      "cell_type": "markdown",
      "metadata": {
        "id": "wdVAm-c_7lev"
      },
      "source": [
        "**Case 2 - Increasing the number of components to 40**\n",
        "\n"
      ]
    },
    {
      "cell_type": "code",
      "execution_count": 27,
      "metadata": {
        "cellView": "both",
        "colab": {
          "base_uri": "https://localhost:8080/",
          "height": 680
        },
        "id": "OhzoeqonFh0-",
        "outputId": "8c34f69a-f990-4d39-e744-06a9d2e34b47"
      },
      "outputs": [],
      "source": [
        "# Add your code here!\n",
        "# num_ceps =40\n",
        "# ..."
      ]
    },
    {
      "cell_type": "markdown",
      "metadata": {},
      "source": [
        "* WRITE YOUR CONCLUSIONS HERE!"
      ]
    },
    {
      "cell_type": "markdown",
      "metadata": {
        "id": "e9FaUbb1_NjS"
      },
      "source": [
        "**Case 3 - Changing the coefficient weighting parameter `lifter` to the number of 2 x number of cepstral coefficients**\n"
      ]
    },
    {
      "cell_type": "code",
      "execution_count": 28,
      "metadata": {
        "cellView": "both",
        "colab": {
          "base_uri": "https://localhost:8080/",
          "height": 680
        },
        "id": "9Mr68dQaA2PQ",
        "outputId": "d2fbd8e0-64d7-41d6-9dbb-8730d8c8bb2c"
      },
      "outputs": [],
      "source": [
        "# Add your code here!\n",
        "# num_ceps = 40\n",
        "# lifter = 2*num_ceps"
      ]
    },
    {
      "cell_type": "markdown",
      "metadata": {},
      "source": [
        "* WRITE YOUR CONCLUSIONS HERE!"
      ]
    },
    {
      "cell_type": "markdown",
      "metadata": {
        "id": "BLdQL_fw0q1F"
      },
      "source": [
        "**Case 4 - Comparing the oboe_c6.wav audio and simple_piano.wav sound**"
      ]
    },
    {
      "cell_type": "code",
      "execution_count": 29,
      "metadata": {
        "colab": {
          "base_uri": "https://localhost:8080/",
          "height": 1000
        },
        "id": "L2U5sEgR2GkA",
        "outputId": "f10df893-6368-4c5f-a9f3-3ed4deb36b8c"
      },
      "outputs": [],
      "source": [
        "# !wget -P sample_data/ https://ccrma.stanford.edu/workshops/dsp2008/sound-library/piano/YamahaH/YamahaH-C6.wav\n",
        "# Add your code here!\n",
        "# ..."
      ]
    },
    {
      "cell_type": "markdown",
      "metadata": {},
      "source": [
        "* WRITE YOUR CONCLUSIONS HERE!"
      ]
    }
  ],
  "metadata": {
    "colab": {
      "include_colab_link": true,
      "provenance": []
    },
    "kernelspec": {
      "display_name": "CMRM2024",
      "language": "python",
      "name": "python3"
    },
    "language_info": {
      "codemirror_mode": {
        "name": "ipython",
        "version": 3
      },
      "file_extension": ".py",
      "mimetype": "text/x-python",
      "name": "python",
      "nbconvert_exporter": "python",
      "pygments_lexer": "ipython3",
      "version": "3.8.20"
    }
  },
  "nbformat": 4,
  "nbformat_minor": 0
}
